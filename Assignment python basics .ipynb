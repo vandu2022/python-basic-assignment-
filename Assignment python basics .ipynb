{
 "cells": [
  {
   "cell_type": "code",
   "execution_count": 3,
   "id": "a45e9243-fb02-4784-993a-a4222b06f60a",
   "metadata": {},
   "outputs": [
    {
     "data": {
      "text/plain": [
       "' Question no 1.    Explain the key features of Python that make it a popular choice of programming .\\n\\n\\nAns....following are the key features of python that make it a popular choice for programming :-\\n        1) python is widely used in the industry specially in the data industry.\\n        2) python consists of large number of libraries (nearly 13700)\\n        3) and it is generally a general purpose language i.e it can used for front-end, beck-end, data analysis etc.\\n        4) good performance and readability\\n        5) easy to learn and versatile in nature \\n        6) python is having  a huge active community.\\n        '"
      ]
     },
     "execution_count": 3,
     "metadata": {},
     "output_type": "execute_result"
    }
   ],
   "source": [
    "\"\"\" Question no 1.    Explain the key features of Python that make it a popular choice of programming .\n",
    "\n",
    "\n",
    "Ans....following are the key features of python that make it a popular choice for programming :-\n",
    "        1) python is widely used in the industry specially in the data industry.\n",
    "        2) python consists of large number of libraries (nearly 13700)\n",
    "        3) and it is generally a general purpose language i.e it can used for front-end, beck-end, data analysis etc.\n",
    "        4) good performance and readability\n",
    "        5) easy to learn and versatile in nature \n",
    "        6) python is having  a huge active community.\n",
    "        \"\"\"\n",
    "                                                                         "
   ]
  },
  {
   "cell_type": "code",
   "execution_count": 78,
   "id": "2807946d-0578-482f-b866-a5f67e489a53",
   "metadata": {},
   "outputs": [
    {
     "data": {
      "text/plain": [
       "'Question no 2  Describe the role of predefined keywords in Python and provide examples of how they are used in a program.\\n\\nAns  predefined keywords in python helps to define the syntax and structure of the language .They are basically reserved word that sholud not be used as \\nvariable names, functions names etc. Preedefined keywords holds a special meaning and a specific purpose in python.\\nHere are some examples how Predefined Keywords are used in a program :\\n1) Print is a keyword in python which is used to give output to the terminal. it can be used to print strings , variables , or the result of any expression like addition, subtraction etc.\\n2) type is a keyword in python which is used to determine the data type.'"
      ]
     },
     "execution_count": 78,
     "metadata": {},
     "output_type": "execute_result"
    }
   ],
   "source": [
    "\"\"\"Question no 2  Describe the role of predefined keywords in Python and provide examples of how they are used in a program.\n",
    "\n",
    "Ans  predefined keywords in python helps to define the syntax and structure of the language .They are basically reserved word that sholud not be used as \n",
    "variable names, functions names etc. Preedefined keywords holds a special meaning and a specific purpose in python.\n",
    "Here are some examples how Predefined Keywords are used in a program :\n",
    "1) Print is a keyword in python which is used to give output to the terminal. it can be used to print strings , variables , or the result of any expression like addition, subtraction etc.\n",
    "2) type is a keyword in python which is used to determine the data type.\"\"\""
   ]
  },
  {
   "cell_type": "code",
   "execution_count": 79,
   "id": "2b1b775d-74cd-4107-96b4-8d8e82fd95de",
   "metadata": {},
   "outputs": [
    {
     "name": "stdout",
     "output_type": "stream",
     "text": [
      "My name is vandana Goyal \n"
     ]
    }
   ],
   "source": [
    "print (\"My name is vandana Goyal \") # print as a keyword "
   ]
  },
  {
   "cell_type": "code",
   "execution_count": 80,
   "id": "70432001-63dc-4aee-9204-a20bed2087a5",
   "metadata": {},
   "outputs": [
    {
     "data": {
      "text/plain": [
       "str"
      ]
     },
     "execution_count": 80,
     "metadata": {},
     "output_type": "execute_result"
    }
   ],
   "source": [
    "type(\"My name is vandana Goyal \") # type as a keyword "
   ]
  },
  {
   "cell_type": "code",
   "execution_count": 85,
   "id": "a28bfd38-29aa-48e7-8d7f-eeda1f545ad7",
   "metadata": {},
   "outputs": [
    {
     "data": {
      "text/plain": [
       "\" question no 3   Compare and contrast mutable and immutable ob\\x0cects in Python with examples.\\n\\nAns   Muttable Objects - whose state or value can be changed after they are created \\n                       - also called as item assignment \\n                       - Example : List (which stores heterogenous data types )\\n     Immutable Objects - whose state or value can't be changed after they are created \\n                        - doesn't support item assignment \\n                        - Example string (characters)\\n                        \""
      ]
     },
     "execution_count": 85,
     "metadata": {},
     "output_type": "execute_result"
    }
   ],
   "source": [
    "\"\"\" question no 3   Compare and contrast mutable and immutable ob\f",
    "ects in Python with examples.\n",
    "\n",
    "Ans   Muttable Objects - whose state or value can be changed after they are created \n",
    "                       - also called as item assignment \n",
    "                       - Example : List (which stores heterogenous data types )\n",
    "     Immutable Objects - whose state or value can't be changed after they are created \n",
    "                        - doesn't support item assignment \n",
    "                        - Example string (characters)\n",
    "                        \"\"\"\n"
   ]
  },
  {
   "cell_type": "code",
   "execution_count": 86,
   "id": "5aebf69c-9c0c-4313-92a0-6743b8f99cce",
   "metadata": {},
   "outputs": [
    {
     "ename": "TypeError",
     "evalue": "'str' object does not support item assignment",
     "output_type": "error",
     "traceback": [
      "\u001b[1;31m---------------------------------------------------------------------------\u001b[0m",
      "\u001b[1;31mTypeError\u001b[0m                                 Traceback (most recent call last)",
      "Cell \u001b[1;32mIn[86], line 5\u001b[0m\n\u001b[0;32m      3\u001b[0m \u001b[38;5;28mtype\u001b[39m (a)           \u001b[38;5;66;03m# to check the datatype \u001b[39;00m\n\u001b[0;32m      4\u001b[0m a[\u001b[38;5;241m5\u001b[39m]               \u001b[38;5;66;03m# to acess the  5( positive indexing starts from zero ) element from a \u001b[39;00m\n\u001b[1;32m----> 5\u001b[0m a[\u001b[38;5;241m5\u001b[39m] \u001b[38;5;241m=\u001b[39m \u001b[38;5;124m\"\u001b[39m\u001b[38;5;124mv\u001b[39m\u001b[38;5;124m\"\u001b[39m\n",
      "\u001b[1;31mTypeError\u001b[0m: 'str' object does not support item assignment"
     ]
    }
   ],
   "source": [
    "# example of Immutable Object \n",
    "a= \"Data Science \" # here we are assiging Data science to variable a using assignment operator \n",
    "type (a)           # to check the datatype \n",
    "a[5]               # to acess the  5( positive indexing starts from zero ) element from a \n",
    "a[5] = \"v\"        # now here we are assigning V to a at 5th index which shows error because string doesn't support assignment operator hence string is a immutable object it means its value cant be changed after created \n"
   ]
  },
  {
   "cell_type": "code",
   "execution_count": 87,
   "id": "c4886626-d7f1-419c-9492-e530cde6a0e3",
   "metadata": {},
   "outputs": [
    {
     "data": {
      "text/plain": [
       "'Student Vandana '"
      ]
     },
     "execution_count": 87,
     "metadata": {},
     "output_type": "execute_result"
    }
   ],
   "source": [
    "# example of mmutable Object \n",
    "l = [2,3,4,\"Pwskills \",\"Ajay sir\", 3+7j]  # list which consist of heterogenous datatypes \n",
    "type (l)                                   # to check the datatype \n",
    "l[4]                                      # to acess the  4( positive indexing starts from zero ) element from l\n",
    "l[4] = \"Student Vandana \"             # here we are assigning Student Vandana at 4th index \n",
    "l                                     # calling l to check the list ehich shows list supports assignment operator hence it its is mutable object and its value can be changed once created.\n",
    "l[4]"
   ]
  },
  {
   "cell_type": "code",
   "execution_count": 98,
   "id": "62a74848-d64d-423c-8eeb-440dc54aaf88",
   "metadata": {},
   "outputs": [
    {
     "data": {
      "text/plain": [
       "'Question no 4    Discuss the different types of operators in Python and provide examples of how they are used. \\n\\nAns        Operators are special keywords/ symbols that are used to perform operations on value or variables.\\n           - used to manage , do computations and make decision using data .'"
      ]
     },
     "execution_count": 98,
     "metadata": {},
     "output_type": "execute_result"
    }
   ],
   "source": [
    "\"\"\"Question no 4    Discuss the different types of operators in Python and provide examples of how they are used. \n",
    "\n",
    "Ans        Operators are special keywords/ symbols that are used to perform operations on value or variables.\n",
    "           - used to manage , do computations and make decision using data .\"\"\"\n",
    "\n",
    "#there are following types of Operators in Python\n"
   ]
  },
  {
   "cell_type": "code",
   "execution_count": 99,
   "id": "dc63680b-cb12-48d2-bcb2-5c728a840ca4",
   "metadata": {},
   "outputs": [
    {
     "data": {
      "text/plain": [
       "'Pwskills'"
      ]
     },
     "execution_count": 99,
     "metadata": {},
     "output_type": "execute_result"
    }
   ],
   "source": [
    "#1) Assignment  Operator >> to assign value to the variable \n",
    "v= \"Pwskills\"    #example we are assiging pwskills to variale v \n",
    "v"
   ]
  },
  {
   "cell_type": "code",
   "execution_count": 102,
   "id": "3d8bfd06-defb-4ce3-ad4a-8ae7a3cf838c",
   "metadata": {},
   "outputs": [
    {
     "data": {
      "text/plain": [
       "7"
      ]
     },
     "execution_count": 102,
     "metadata": {},
     "output_type": "execute_result"
    }
   ],
   "source": [
    "# Arithmetic operators >> to perform operations/Expressions \n",
    "a= 5 \n",
    "b=2\n",
    "a+b        # addition "
   ]
  },
  {
   "cell_type": "code",
   "execution_count": 101,
   "id": "94a389f9-b892-4f3f-a769-318f8385d923",
   "metadata": {},
   "outputs": [
    {
     "data": {
      "text/plain": [
       "3"
      ]
     },
     "execution_count": 101,
     "metadata": {},
     "output_type": "execute_result"
    }
   ],
   "source": [
    "a-b        # Subtraction"
   ]
  },
  {
   "cell_type": "code",
   "execution_count": 103,
   "id": "b214784e-b352-4f82-ab63-379356972aaa",
   "metadata": {},
   "outputs": [
    {
     "data": {
      "text/plain": [
       "10"
      ]
     },
     "execution_count": 103,
     "metadata": {},
     "output_type": "execute_result"
    }
   ],
   "source": [
    "a*b        # Multiplication "
   ]
  },
  {
   "cell_type": "code",
   "execution_count": 104,
   "id": "4d5adf9f-4eb2-44fd-9264-a9b434a6bb8d",
   "metadata": {},
   "outputs": [
    {
     "data": {
      "text/plain": [
       "2.5"
      ]
     },
     "execution_count": 104,
     "metadata": {},
     "output_type": "execute_result"
    }
   ],
   "source": [
    "a/b        # division ---- to get Quotient"
   ]
  },
  {
   "cell_type": "code",
   "execution_count": 105,
   "id": "408b66b1-0382-426a-b5d1-e1c2310ce79b",
   "metadata": {},
   "outputs": [
    {
     "data": {
      "text/plain": [
       "1"
      ]
     },
     "execution_count": 105,
     "metadata": {},
     "output_type": "execute_result"
    }
   ],
   "source": [
    "a%b        # modulus ------to get reminder"
   ]
  },
  {
   "cell_type": "code",
   "execution_count": 106,
   "id": "365bedb2-36b8-4ae4-853c-32f33bc81e7c",
   "metadata": {},
   "outputs": [
    {
     "data": {
      "text/plain": [
       "25"
      ]
     },
     "execution_count": 106,
     "metadata": {},
     "output_type": "execute_result"
    }
   ],
   "source": [
    "a**b        # to get power"
   ]
  },
  {
   "cell_type": "code",
   "execution_count": 91,
   "id": "850ed564-2f59-4100-b59b-20f20b53db76",
   "metadata": {},
   "outputs": [
    {
     "data": {
      "text/plain": [
       "1"
      ]
     },
     "execution_count": 91,
     "metadata": {},
     "output_type": "execute_result"
    }
   ],
   "source": [
    "#3) Floor Operator >>> to get the nearest lower value of variable \n",
    "a =4 \n",
    "b=3 \n",
    "a//b # when we divide 4 by 3 wwe get value as 1.33 we have to options either we can get 1 or we can approx that to 1.5 so amongest two lower value is 1 which is given by floor operator "
   ]
  },
  {
   "cell_type": "code",
   "execution_count": 92,
   "id": "f25c0453-bba7-488a-9e2e-c92c1515af96",
   "metadata": {},
   "outputs": [
    {
     "data": {
      "text/plain": [
       "True"
      ]
     },
     "execution_count": 92,
     "metadata": {},
     "output_type": "execute_result"
    }
   ],
   "source": [
    "#4)  Comparison Operator >> to compare two values and in return always displays a Boolean value\n",
    "4==4        #(compares 4 to 4 if its equal will give true as output otherwise will give False )\n",
    "2 != 2     # not equals to returns\n",
    "34>9      # greater than \n",
    "89>45      # less than \n",
    "45>=67     # Greater than equals to \n",
    "67<=67     # less than equals to "
   ]
  },
  {
   "cell_type": "code",
   "execution_count": 93,
   "id": "4935b33e-ff72-4e58-a80b-533af793f871",
   "metadata": {},
   "outputs": [
    {
     "data": {
      "text/plain": [
       "False"
      ]
     },
     "execution_count": 93,
     "metadata": {},
     "output_type": "execute_result"
    }
   ],
   "source": [
    "#5) logical operators >>> use logic basically theses are 3 and, or , not \n",
    "True and True    #(and operator returns true only if both conditions are true otherwise it returns false )\n",
    "True and False \n",
    "False and True \n",
    "False and False \n",
    "\n",
    "True or True    #(or  operator returns true if only one condition satisfied )\n",
    "True or False \n",
    "False or True \n",
    "False or False \n",
    "\n",
    "not True     # return its opposite as its output \n"
   ]
  },
  {
   "cell_type": "code",
   "execution_count": 94,
   "id": "3a7422be-8faa-4873-8eb0-497a7ac9138b",
   "metadata": {},
   "outputs": [
    {
     "data": {
      "text/plain": [
       "True"
      ]
     },
     "execution_count": 94,
     "metadata": {},
     "output_type": "execute_result"
    }
   ],
   "source": [
    "#6) Membership Operators >> to check valure of somehing in variable \n",
    "a =  \"THIS IS MY PYTHON ASSIGNMENT \"\n",
    "\"MY\" in a  # this will return True as My is present in variable a Otherwise it gives output as False \n"
   ]
  },
  {
   "cell_type": "code",
   "execution_count": 95,
   "id": "95b3cc69-9a83-459f-8d5b-ee4e744d311a",
   "metadata": {},
   "outputs": [
    {
     "data": {
      "text/plain": [
       "True"
      ]
     },
     "execution_count": 95,
     "metadata": {},
     "output_type": "execute_result"
    }
   ],
   "source": [
    "#7) Identity Opertors >> compares the location or two memory blocks \n",
    "b=2 \n",
    "b=3\n",
    "a is b # returns False as output because of different location of a and b in memory block\n",
    "a=2 \n",
    "b=2 \n",
    "a is b # returns True as output because of same location of a and b in memory block "
   ]
  },
  {
   "cell_type": "code",
   "execution_count": 96,
   "id": "7b899543-199d-4c92-b9dc-8f169d23fdcc",
   "metadata": {},
   "outputs": [
    {
     "data": {
      "text/plain": [
       "1"
      ]
     },
     "execution_count": 96,
     "metadata": {},
     "output_type": "execute_result"
    }
   ],
   "source": [
    "# 8) Bitwise Operators >> operators at bit level, manipulating individual bits within integers \n",
    "  # in this we have &(and), |(or), ~(negation), ^(XOR)\n",
    "15&15         #(we can check bin of 15 and then in case of & it will give only value 1 if both are 1 otherwise it gives 0 )\n",
    "15|16         #(we can check bin of 15 and 16 and in case of or it give 1 even if there will be one 1 returns 0 when both are 0)\n",
    "~12           # (#returns one lower value with minus sign )\n",
    "5^4           # (returns one only if we have one 1 )\n"
   ]
  },
  {
   "cell_type": "code",
   "execution_count": 97,
   "id": "2efdaa3b-016f-4b04-8f7c-e261bd9f86e7",
   "metadata": {},
   "outputs": [
    {
     "data": {
      "text/plain": [
       "22"
      ]
     },
     "execution_count": 97,
     "metadata": {},
     "output_type": "execute_result"
    }
   ],
   "source": [
    "#9) Shift operators >> left shift and right shift operator \n",
    "#Left shift \n",
    "35<<4      # shifts the bit by specified no (here 4) of position by filling zeros on right\n",
    "# right shift \n",
    "45>>1     # remove the number of elements in the binary (from last )\n"
   ]
  },
  {
   "cell_type": "code",
   "execution_count": 112,
   "id": "1a075ad0-7aaf-49e7-9a49-66d59aa7cb1f",
   "metadata": {},
   "outputs": [
    {
     "data": {
      "text/plain": [
       "' question no 5    \\nExplain the concept of type casting in Python with examples\\n\\nAns   Typecasting in python is explained as conversion of one data type to another for example from integer to float or from string to integer \\n     - and it is of two types explicit(PYTHON CONVERT DATA TYPE USING INBUILT FUNCTIONS) typecasting and implicit(PYTHON ITSELS UNDERSTANDTHE DATATYPE) typecasting \\n\\n\\n'"
      ]
     },
     "execution_count": 112,
     "metadata": {},
     "output_type": "execute_result"
    }
   ],
   "source": [
    "\"\"\" question no 5    \n",
    "Explain the concept of type casting in Python with examples\n",
    "\n",
    "Ans   Typecasting in python is explained as conversion of one data type to another for example from integer to float or from string to integer \n",
    "     - and it is of two types explicit(PYTHON CONVERT DATA TYPE USING INBUILT FUNCTIONS) typecasting and implicit(PYTHON ITSELS UNDERSTANDTHE DATATYPE) typecasting \n",
    "\n",
    "\n",
    "\"\"\""
   ]
  },
  {
   "cell_type": "code",
   "execution_count": 107,
   "id": "c3d377fc-6ac2-4bae-9e5f-b723f928a8e2",
   "metadata": {},
   "outputs": [
    {
     "data": {
      "text/plain": [
       "int"
      ]
     },
     "execution_count": 107,
     "metadata": {},
     "output_type": "execute_result"
    }
   ],
   "source": [
    "#  Flot to int \n",
    "a= 3.5 \n",
    "type (a)\n",
    "type(int(a))"
   ]
  },
  {
   "cell_type": "code",
   "execution_count": 108,
   "id": "77d12400-bc9e-428c-bae4-9cfc3d090178",
   "metadata": {},
   "outputs": [
    {
     "data": {
      "text/plain": [
       "float"
      ]
     },
     "execution_count": 108,
     "metadata": {},
     "output_type": "execute_result"
    }
   ],
   "source": [
    "# int to float\n",
    "a=67\n",
    "type(a)\n",
    "type(float(a))"
   ]
  },
  {
   "cell_type": "code",
   "execution_count": 109,
   "id": "d2bd8cf4-7d83-4594-84e9-d90a48502905",
   "metadata": {},
   "outputs": [
    {
     "data": {
      "text/plain": [
       "int"
      ]
     },
     "execution_count": 109,
     "metadata": {},
     "output_type": "execute_result"
    }
   ],
   "source": [
    "# string to int \n",
    "a= \"5657\"\n",
    "type(a)\n",
    "type(int(a))\n"
   ]
  },
  {
   "cell_type": "code",
   "execution_count": 110,
   "id": "66349ade-7619-4653-8d16-15bfe1105e4f",
   "metadata": {},
   "outputs": [
    {
     "data": {
      "text/plain": [
       "float"
      ]
     },
     "execution_count": 110,
     "metadata": {},
     "output_type": "execute_result"
    }
   ],
   "source": [
    "# string to float \n",
    "b=\"678\"\n",
    "type(b)\n",
    "type(float(b))"
   ]
  },
  {
   "cell_type": "code",
   "execution_count": 111,
   "id": "53aa2c18-cc54-4a6d-a390-f10aa6e253aa",
   "metadata": {},
   "outputs": [
    {
     "data": {
      "text/plain": [
       "str"
      ]
     },
     "execution_count": 111,
     "metadata": {},
     "output_type": "execute_result"
    }
   ],
   "source": [
    "#integer to string \n",
    "c=67 \n",
    "type(c)\n",
    "type(str(c))"
   ]
  },
  {
   "cell_type": "code",
   "execution_count": 67,
   "id": "ab837725-24b4-4649-9aac-c41a9a4ee53e",
   "metadata": {},
   "outputs": [
    {
     "name": "stdout",
     "output_type": "stream",
     "text": [
      "it's a hot day\n"
     ]
    }
   ],
   "source": [
    "\"\"\" question no 6  How do conditional statements work in Python? Illustrate with examples\n",
    "\n",
    "Answer    conditional statements in python allow for decision making in our code, enabling different actions based on specific conditions . \n",
    "          - important to implement logic \n",
    "          - we have basically four conditional statements in python \n",
    "          1) if ----Executes a block of code if the condition is True \n",
    "          2) elif----checks the multiple conditions if the previous if or elif conditiions are false \n",
    "          3) else----executes a block of code if all preceeding conditions are false \n",
    "          4) nested if else -----statement inside another if or else statement \"\"\"\n",
    "# if conditional statement \n",
    "temperature =30\n",
    "if temperature >25:    # exectues if its true otherwise prints nothing \n",
    "    print (\"it's a hot day\")\n",
    "          \n"
   ]
  },
  {
   "cell_type": "code",
   "execution_count": 68,
   "id": "88938eaf-b630-429c-8031-d6b54eb8448d",
   "metadata": {},
   "outputs": [
    {
     "name": "stdout",
     "output_type": "stream",
     "text": [
      "Your grade is : C\n"
     ]
    }
   ],
   "source": [
    "# elif Conditional statement \n",
    "score= 75 \n",
    "if score>=90:\n",
    "    grade=\"A\"\n",
    "elif score >=80:\n",
    "    grade= \"B\"\n",
    "elif score >=70:\n",
    "    grade = \"C\"\n",
    "else:\n",
    "    grade = \"D\"\n",
    "print (\"Your grade is :\", grade)     "
   ]
  },
  {
   "cell_type": "code",
   "execution_count": 69,
   "id": "82b67db9-c354-4f32-b2b8-62c4e090b620",
   "metadata": {},
   "outputs": [
    {
     "name": "stdout",
     "output_type": "stream",
     "text": [
      "you are not an adult \n"
     ]
    }
   ],
   "source": [
    "# else conditional statement \n",
    "age= 15\n",
    "if age >=18:\n",
    "    print(\"you are an adult \")\n",
    "else:\n",
    "    print(\"you are not an adult \")\n"
   ]
  },
  {
   "cell_type": "code",
   "execution_count": 71,
   "id": "37809480-1aa1-4cfb-b541-57c80c04334e",
   "metadata": {},
   "outputs": [
    {
     "name": "stdout",
     "output_type": "stream",
     "text": [
      "This number is positive\n",
      "the number is even\n"
     ]
    }
   ],
   "source": [
    "# nested if statement \n",
    "num=10\n",
    "if num>0:\n",
    "    print (\"This number is positive\")\n",
    "    if num %2==0:\n",
    "        print (\"the number is even\")\n",
    "    else:\n",
    "        print (\"the number is odd\")\n",
    "else:\n",
    "    print (\"the number is negative or zero\")"
   ]
  },
  {
   "cell_type": "code",
   "execution_count": 73,
   "id": "24d33d46-ceb8-4402-94d6-e0e0dd4d1752",
   "metadata": {},
   "outputs": [
    {
     "name": "stdout",
     "output_type": "stream",
     "text": [
      "P w s k i l l s "
     ]
    }
   ],
   "source": [
    "\"\"\" question no 7   Describe the diffeernt types of loops in Python and their use cases with examples.\n",
    "\n",
    " Answer  loop statement in python allows us to execute block of code repeatedly\n",
    "         - in python basically we have two types of loop statement\n",
    "         1) for loop>>>iterate over a sequence of elements \n",
    "         2)  while loop >> repeatedly executes a block of code untill the condition is met \"\"\"\n",
    "\n",
    "\n",
    " # for loop example     \n",
    "institute = \"Pwskills\"\n",
    "for i in institute :\n",
    "    print (i, end=\" \")"
   ]
  },
  {
   "cell_type": "code",
   "execution_count": 75,
   "id": "f0227613-edaf-470b-8482-ffbbbc369b4b",
   "metadata": {},
   "outputs": [
    {
     "name": "stdout",
     "output_type": "stream",
     "text": [
      "7\n",
      "8\n",
      "9\n",
      "This will be executed when the while loop is run sucessfully without any break \n"
     ]
    }
   ],
   "source": [
    "# while loop example \n",
    "n = 10 \n",
    "i=7\n",
    "while i<n:\n",
    "    print(i)\n",
    "    i=i+1\n",
    "else:\n",
    "    print (\"This will be executed when the while loop is run sucessfully without any break \")"
   ]
  },
  {
   "cell_type": "code",
   "execution_count": null,
   "id": "6dccb745-f9a8-4a3f-aa62-ac726e8d716a",
   "metadata": {},
   "outputs": [],
   "source": []
  }
 ],
 "metadata": {
  "kernelspec": {
   "display_name": "Python 3 (ipykernel)",
   "language": "python",
   "name": "python3"
  },
  "language_info": {
   "codemirror_mode": {
    "name": "ipython",
    "version": 3
   },
   "file_extension": ".py",
   "mimetype": "text/x-python",
   "name": "python",
   "nbconvert_exporter": "python",
   "pygments_lexer": "ipython3",
   "version": "3.12.4"
  }
 },
 "nbformat": 4,
 "nbformat_minor": 5
}
